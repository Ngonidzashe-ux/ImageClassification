{
 "cells": [
  {
   "cell_type": "markdown",
   "id": "e3eac054",
   "metadata": {},
   "source": [
    "# MNIST FASHION\n"
   ]
  },
  {
   "cell_type": "code",
   "execution_count": 1,
   "id": "53214340",
   "metadata": {
    "scrolled": true
   },
   "outputs": [
    {
     "name": "stderr",
     "output_type": "stream",
     "text": [
      "2024-01-11 11:07:39.492649: I tensorflow/core/platform/cpu_feature_guard.cc:182] This TensorFlow binary is optimized to use available CPU instructions in performance-critical operations.\n",
      "To enable the following instructions: AVX2 FMA, in other operations, rebuild TensorFlow with the appropriate compiler flags.\n",
      "/Users/ngoni/opt/anaconda3/lib/python3.9/site-packages/scipy/__init__.py:146: UserWarning: A NumPy version >=1.16.5 and <1.23.0 is required for this version of SciPy (detected version 1.26.3\n",
      "  warnings.warn(f\"A NumPy version >={np_minversion} and <{np_maxversion}\"\n"
     ]
    }
   ],
   "source": [
    "# Importing necessary libraries\n",
    "import matplotlib.pyplot as plt\n",
    "from tensorflow import keras\n",
    "from keras.layers import Input, Conv2D, Dense, Flatten, Dropout, MaxPool2D\n",
    "from keras.models import Model\n",
    "import cv2\n",
    "import numpy as np"
   ]
  },
  {
   "cell_type": "code",
   "execution_count": 2,
   "id": "7d294e2c",
   "metadata": {},
   "outputs": [],
   "source": [
    "# Loading the Fashion Mnist Data Set\n",
    "mnist_images = keras.datasets.fashion_mnist\n",
    "\n",
    "# Dividing into training set and test sets\n",
    "(X_train, y_train), (X_test, y_test) = mnist_images.load_data()\n",
    "\n",
    "# Normalizing the dataset by dividing pixel values by 255.0\n",
    "X_train, X_test = X_train/255.0, X_test/255.0\n"
   ]
  },
  {
   "cell_type": "code",
   "execution_count": 7,
   "id": "f4591991",
   "metadata": {},
   "outputs": [],
   "source": [
    "# Reshaping the image for visualization using matplotlib\n",
    "image_data = X_test[5]"
   ]
  },
  {
   "cell_type": "code",
   "execution_count": 8,
   "id": "a8834d1b",
   "metadata": {},
   "outputs": [
    {
     "data": {
      "image/png": "[encoded data removed]",
      "text/plain": [
       "<Figure size 432x288 with 2 Axes>"
      ]
     },
     "metadata": {
      "needs_background": "light"
     },
     "output_type": "display_data"
    }
   ],
   "source": [
    "#create a new window/container/figure to draw in\n",
    "plt.figure()\n",
    "\n",
    "#displays the image located at index 5 of the X test array\n",
    "plt.imshow(image_data)\n",
    "\n",
    "#adds a colour bar to the plot\n",
    "plt.colorbar()\n",
    "\n",
    "#Turns off grid lines\n",
    "plt.grid(False)\n",
    "\n",
    "#Displays entire plot or entire visualization and without it\n",
    "plt.show()"
   ]
  },
  {
   "cell_type": "code",
   "execution_count": 9,
   "id": "c1153393",
   "metadata": {},
   "outputs": [],
   "source": [
    "#You need to reshape the image into something similar to an actual photograph using cv2. .reshape(height, width, channels.)\n",
    "#RGB = 3 CHANNELS AND grey = one channel\n",
    "image = image_data.reshape(28, 28, 1)"
   ]
  },
  {
   "cell_type": "code",
   "execution_count": 10,
   "id": "7a06b3ae",
   "metadata": {
    "scrolled": true
   },
   "outputs": [
    {
     "ename": "KeyboardInterrupt",
     "evalue": "",
     "output_type": "error",
     "traceback": [
      "\u001b[0;31m---------------------------------------------------------------------------\u001b[0m",
      "\u001b[0;31mKeyboardInterrupt\u001b[0m                         Traceback (most recent call last)",
      "Input \u001b[0;32mIn [10]\u001b[0m, in \u001b[0;36m<cell line: 5>\u001b[0;34m()\u001b[0m\n\u001b[1;32m      2\u001b[0m cv2\u001b[38;5;241m.\u001b[39mimshow(\u001b[38;5;124m'\u001b[39m\u001b[38;5;124mReshaped Image\u001b[39m\u001b[38;5;124m'\u001b[39m, image)\n\u001b[1;32m      3\u001b[0m \u001b[38;5;66;03m#cv2.waitKey(delay): This is for leaving the image window open until a key is pressed. After the key is pressed,\u001b[39;00m\n\u001b[1;32m      4\u001b[0m \u001b[38;5;66;03m#it waits for the delay(millseconds) until it closes the window\u001b[39;00m\n\u001b[0;32m----> 5\u001b[0m \u001b[43mcv2\u001b[49m\u001b[38;5;241;43m.\u001b[39;49m\u001b[43mwaitKey\u001b[49m\u001b[43m(\u001b[49m\u001b[38;5;241;43m0\u001b[39;49m\u001b[43m)\u001b[49m\n\u001b[1;32m      7\u001b[0m \u001b[38;5;66;03m#used to destroy all OpenCV windows that are currently open\u001b[39;00m\n\u001b[1;32m      8\u001b[0m cv2\u001b[38;5;241m.\u001b[39mdestroyAllWindows()\n",
      "\u001b[0;31mKeyboardInterrupt\u001b[0m: "
     ]
    }
   ],
   "source": [
    "# Reshaping the image using OpenCV to display in a window\n",
    "image = image_data.reshape(28, 28, 1)\n",
    "cv2.imshow('Reshaped Image', image)\n",
    "cv2.waitKey(0)\n",
    "cv2.destroyAllWindows()\n"
   ]
  },
  {
   "cell_type": "code",
   "execution_count": 11,
   "id": "0abd05b3",
   "metadata": {},
   "outputs": [
    {
     "name": "stdout",
     "output_type": "stream",
     "text": [
      "(60000, 28, 28, 1)\n",
      "(10000, 28, 28, 1)\n"
     ]
    }
   ],
   "source": [
    "# Adding color channel axes to the images in the training and test sets\n",
    "X_train = np.expand_dims(X_train, -1)\n",
    "X_test = np.expand_dims(X_test, -1)"
   ]
  },
  {
   "cell_type": "code",
   "execution_count": 12,
   "id": "de8e1324",
   "metadata": {},
   "outputs": [
    {
     "name": "stdout",
     "output_type": "stream",
     "text": [
      "(28, 28, 1)\n"
     ]
    }
   ],
   "source": [
    "#debugging\n",
    "print(X_train[0].shape)"
   ]
  },
  {
   "cell_type": "code",
   "execution_count": 13,
   "id": "461e4531",
   "metadata": {},
   "outputs": [
    {
     "name": "stdout",
     "output_type": "stream",
     "text": [
      "{0, 1, 2, 3, 4, 5, 6, 7, 8, 9}\n"
     ]
    }
   ],
   "source": [
    "#label encoding\n",
    "#labels are represented as labels and set extracts the unique labels from y_train\n",
    "#y_train is one dimensional array containing the labels of all the information\n",
    "#There should be a key else where to determine what each label correspond to.\n",
    "outputs = set(y_train)\n",
    "print(outputs)"
   ]
  },
  {
   "cell_type": "code",
   "execution_count": 14,
   "id": "46d67b31",
   "metadata": {},
   "outputs": [],
   "source": [
    "# Defining the model architecture using Convolutional Neural Network (CNN)\n",
    "\n",
    "# Input layer that takes the shape of a single image in the dataset\n",
    "inp_layer = Input(shape=X_train[0].shape)\n",
    "\n",
    "# First Convolutional layer with 32 filters of size 3x3 and a stride of 2\n",
    "# The activation function 'relu' introduces non-linearity\n",
    "conv1 = Conv2D(32, (3,3), strides=2, activation='relu')(inp_layer)\n",
    "\n",
    "# MaxPooling layer to downsample the spatial dimensions by 2x2\n",
    "maxp1 = MaxPool2D(2, 2)(conv1)\n",
    "\n",
    "# Second Convolutional layer with 64 filters of size 3x3 and a stride of 2\n",
    "# Activation function 'relu' is applied for non-linearity\n",
    "conv2 = Conv2D(64, (3,3), strides=2, activation='relu')(maxp1)\n",
    "\n",
    "# Flatten layer to convert the multi-dimensional tensor into a one-dimensional array\n",
    "flat1 = Flatten()(conv2)\n",
    "\n",
    "# First Dense (Fully Connected) layer with 256 neurons and 'relu' activation\n",
    "dense1 = Dense(256, activation='relu')(flat1)\n",
    "\n",
    "# Second Dense (Fully Connected) layer with 128 neurons and 'relu' activation\n",
    "dense2 = Dense(128, activation='relu')(dense1)\n",
    "\n",
    "# Output layer with the number of neurons equal to the number of unique labels in the dataset\n",
    "# 'softmax' activation is used for multi-class classification\n",
    "out_layer = Dense(len(set(y_train)), activation='softmax')(dense2)\n",
    "\n",
    "# Creating the model using the functional API\n",
    "model_func = Model(inp_layer, out_layer)"
   ]
  },
  {
   "cell_type": "code",
   "execution_count": null,
   "id": "45444e1a",
   "metadata": {},
   "outputs": [],
   "source": [
    "# Compiling the model with Adam optimizer and sparse categorical crossentropy loss\n",
    "model_func.compile(optimizer='adam', loss='sparse_categorical_crossentropy', metrics=['accuracy'])\n",
    "\n",
    "# Displaying the model architecture\n",
    "from tensorflow.keras.utils import plot_model\n",
    "plot_model(model_func, to_file='model_plot.png', show_shapes=True, show_layer_names=False)"
   ]
  },
  {
   "cell_type": "code",
   "execution_count": 16,
   "id": "a027c0ee",
   "metadata": {},
   "outputs": [
    {
     "name": "stdout",
     "output_type": "stream",
     "text": [
      "Epoch 1/5\n",
      "3750/3750 [==============================] - 13s 3ms/step - loss: 0.5256 - accuracy: 0.8051 - val_loss: 0.4318 - val_accuracy: 0.8369\n",
      "Epoch 2/5\n",
      "3750/3750 [==============================] - 10s 3ms/step - loss: 0.3776 - accuracy: 0.8594 - val_loss: 0.3728 - val_accuracy: 0.8654\n",
      "Epoch 3/5\n",
      "3750/3750 [==============================] - 12s 3ms/step - loss: 0.3363 - accuracy: 0.8744 - val_loss: 0.3484 - val_accuracy: 0.8692\n",
      "Epoch 4/5\n",
      "3750/3750 [==============================] - 11s 3ms/step - loss: 0.3063 - accuracy: 0.8855 - val_loss: 0.3516 - val_accuracy: 0.8746\n",
      "Epoch 5/5\n",
      "3750/3750 [==============================] - 11s 3ms/step - loss: 0.2843 - accuracy: 0.8932 - val_loss: 0.3311 - val_accuracy: 0.8789\n"
     ]
    }
   ],
   "source": [
    "# Training the model on the provided data for 5 epochs\n",
    "history = model_func.fit(X_train,\n",
    "y_train,\n",
    "epochs=5,\n",
    "batch_size=16,\n",
    "validation_data=(X_test, y_test))"
   ]
  },
  {
   "cell_type": "code",
   "execution_count": null,
   "id": "8d8ba61a",
   "metadata": {},
   "outputs": [],
   "source": []
  }
 ],
 "metadata": {
  "kernelspec": {
   "display_name": "Python 3 (ipykernel)",
   "language": "python",
   "name": "python3"
  },
  "language_info": {
   "codemirror_mode": {
    "name": "ipython",
    "version": 3
   },
   "file_extension": ".py",
   "mimetype": "text/x-python",
   "name": "python",
   "nbconvert_exporter": "python",
   "pygments_lexer": "ipython3",
   "version": "3.9.12"
  }
 },
 "nbformat": 4,
 "nbformat_minor": 5
}
