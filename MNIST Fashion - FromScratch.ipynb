{
 "cells": [
  {
   "cell_type": "markdown",
   "id": "e3eac054",
   "metadata": {},
   "source": [
    "# MNIST FASHION\n"
   ]
  },
  {
   "cell_type": "code",
   "execution_count": null,
   "id": "53214340",
   "metadata": {
    "scrolled": true
   },
   "outputs": [],
   "source": [
    "# Importing necessary libraries\n",
    "import matplotlib.pyplot as plt\n",
    "from tensorflow import keras\n",
    "from keras.layers import Input, Conv2D, Dense, Flatten, Dropout, MaxPool2D\n",
    "from keras.models import Model\n",
    "import cv2\n",
    "import numpy as np"
   ]
  },
  {
   "cell_type": "code",
   "execution_count": null,
   "id": "7d294e2c",
   "metadata": {},
   "outputs": [],
   "source": [
    "# Loading the Fashion Mnist Data Set\n",
    "mnist_images = keras.datasets.fashion_mnist\n",
    "\n",
    "# Dividing into training set and test sets\n",
    "(X_train, y_train), (X_test, y_test) = mnist_images.load_data()\n",
    "\n",
    "# Normalizing the dataset by dividing pixel values by 255.0\n",
    "X_train, X_test = X_train/255.0, X_test/255.0\n"
   ]
  },
  {
   "cell_type": "code",
   "execution_count": null,
   "id": "f4591991",
   "metadata": {},
   "outputs": [],
   "source": [
    "# Reshaping the image for visualization using matplotlib\n",
    "image_data = X_test[5]"
   ]
  },
  {
   "cell_type": "code",
   "execution_count": null,
   "id": "a8834d1b",
   "metadata": {},
   "outputs": [],
   "source": [
    "#create a new window/container/figure to draw in\n",
    "plt.figure()\n",
    "\n",
    "#displays the image located at index 5 of the X test array\n",
    "plt.imshow(image_data)\n",
    "\n",
    "#adds a colour bar to the plot\n",
    "plt.colorbar()\n",
    "\n",
    "#Turns off grid lines\n",
    "plt.grid(False)\n",
    "\n",
    "#Displays entire plot or entire visualization and without it\n",
    "plt.show()"
   ]
  },
  {
   "cell_type": "code",
   "execution_count": null,
   "id": "c1153393",
   "metadata": {},
   "outputs": [],
   "source": [
    "#You need to reshape the image into something similar to an actual photograph using cv2. .reshape(height, width, channels.)\n",
    "#RGB = 3 CHANNELS AND grey = one channel\n",
    "image = image_data.reshape(28, 28, 1)"
   ]
  },
  {
   "cell_type": "code",
   "execution_count": null,
   "id": "7a06b3ae",
   "metadata": {
    "scrolled": true
   },
   "outputs": [],
   "source": [
    "# Reshaping the image using OpenCV to display in a window\n",
    "image = image_data.reshape(28, 28, 1)\n",
    "cv2.imshow('Reshaped Image', image)\n",
    "cv2.waitKey(0)\n",
    "cv2.destroyAllWindows()\n"
   ]
  },
  {
   "cell_type": "code",
   "execution_count": null,
   "id": "0abd05b3",
   "metadata": {},
   "outputs": [],
   "source": [
    "# Adding color channel axes to the images in the training and test sets\n",
    "X_train = np.expand_dims(X_train, -1)\n",
    "X_test = np.expand_dims(X_test, -1)"
   ]
  },
  {
   "cell_type": "code",
   "execution_count": null,
   "id": "de8e1324",
   "metadata": {},
   "outputs": [],
   "source": [
    "#debugging\n",
    "print(X_train[0].shape)"
   ]
  },
  {
   "cell_type": "code",
   "execution_count": null,
   "id": "461e4531",
   "metadata": {},
   "outputs": [],
   "source": [
    "#label encoding\n",
    "#labels are represented as labels and set extracts the unique labels from y_train\n",
    "#y_train is one dimensional array containing the labels of all the information\n",
    "#There should be a key else where to determine what each label correspond to.\n",
    "outputs = set(y_train)\n",
    "print(outputs)"
   ]
  },
  {
   "cell_type": "code",
   "execution_count": null,
   "id": "46d67b31",
   "metadata": {},
   "outputs": [],
   "source": [
    "# Defining the model architecture using Convolutional Neural Network (CNN)\n",
    "\n",
    "# Input layer that takes the shape of a single image in the dataset\n",
    "inp_layer = Input(shape=X_train[0].shape)\n",
    "\n",
    "# First Convolutional layer with 32 filters of size 3x3 and a stride of 2\n",
    "# The activation function 'relu' introduces non-linearity\n",
    "conv1 = Conv2D(32, (3,3), strides=2, activation='relu')(inp_layer)\n",
    "\n",
    "# MaxPooling layer to downsample the spatial dimensions by 2x2\n",
    "maxp1 = MaxPool2D(2, 2)(conv1)\n",
    "\n",
    "# Second Convolutional layer with 64 filters of size 3x3 and a stride of 2\n",
    "# Activation function 'relu' is applied for non-linearity\n",
    "conv2 = Conv2D(64, (3,3), strides=2, activation='relu')(maxp1)\n",
    "\n",
    "# Flatten layer to convert the multi-dimensional tensor into a one-dimensional array\n",
    "flat1 = Flatten()(conv2)\n",
    "\n",
    "# First Dense (Fully Connected) layer with 256 neurons and 'relu' activation\n",
    "dense1 = Dense(256, activation='relu')(flat1)\n",
    "\n",
    "# Second Dense (Fully Connected) layer with 128 neurons and 'relu' activation\n",
    "dense2 = Dense(128, activation='relu')(dense1)\n",
    "\n",
    "# Output layer with the number of neurons equal to the number of unique labels in the dataset\n",
    "# 'softmax' activation is used for multi-class classification\n",
    "out_layer = Dense(len(set(y_train)), activation='softmax')(dense2)\n",
    "\n",
    "# Creating the model using the functional API\n",
    "model_func = Model(inp_layer, out_layer)"
   ]
  },
  {
   "cell_type": "code",
   "execution_count": null,
   "id": "45444e1a",
   "metadata": {},
   "outputs": [],
   "source": [
    "# Compiling the model with Adam optimizer and sparse categorical crossentropy loss\n",
    "model_func.compile(optimizer='adam', loss='sparse_categorical_crossentropy', metrics=['accuracy'])\n",
    "\n",
    "# Displaying the model architecture\n",
    "from tensorflow.keras.utils import plot_model\n",
    "plot_model(model_func, to_file='model_plot.png', show_shapes=True, show_layer_names=False)"
   ]
  },
  {
   "cell_type": "code",
   "execution_count": null,
   "id": "a027c0ee",
   "metadata": {},
   "outputs": [],
   "source": [
    "# Training the model on the provided data for 5 epochs\n",
    "history = model_func.fit(X_train,\n",
    "y_train,\n",
    "epochs=5,\n",
    "batch_size=16,\n",
    "validation_data=(X_test, y_test))"
   ]
  },
  {
   "cell_type": "code",
   "execution_count": null,
   "id": "8d8ba61a",
   "metadata": {},
   "outputs": [],
   "source": []
  }
 ],
 "metadata": {
  "kernelspec": {
   "display_name": "Python 3 (ipykernel)",
   "language": "python",
   "name": "python3"
  },
  "language_info": {
   "codemirror_mode": {
    "name": "ipython",
    "version": 3
   },
   "file_extension": ".py",
   "mimetype": "text/x-python",
   "name": "python",
   "nbconvert_exporter": "python",
   "pygments_lexer": "ipython3",
   "version": "3.9.12"
  }
 },
 "nbformat": 4,
 "nbformat_minor": 5
}
